{
  "nbformat": 4,
  "nbformat_minor": 0,
  "metadata": {
    "colab": {
      "provenance": [],
      "authorship_tag": "ABX9TyMpgeVqP2+Sn4WZ3clBoJAy",
      "include_colab_link": true
    },
    "kernelspec": {
      "name": "python3",
      "display_name": "Python 3"
    },
    "language_info": {
      "name": "python"
    }
  },
  "cells": [
    {
      "cell_type": "markdown",
      "metadata": {
        "id": "view-in-github",
        "colab_type": "text"
      },
      "source": [
        "<a href=\"https://colab.research.google.com/github/vaish-8468/Machine_Learning/blob/main/ID3_Algo_Lab2.ipynb\" target=\"_parent\"><img src=\"https://colab.research.google.com/assets/colab-badge.svg\" alt=\"Open In Colab\"/></a>"
      ]
    },
    {
      "cell_type": "code",
      "execution_count": 1,
      "metadata": {
        "id": "__5QPW_IY0W6"
      },
      "outputs": [],
      "source": [
        "import pandas as pd\n",
        "import numpy as np\n",
        "import matplotlib.pyplot as plt\n",
        "import math\n"
      ]
    },
    {
      "cell_type": "markdown",
      "source": [
        "Loading the  dataset"
      ],
      "metadata": {
        "id": "KtxXjN9kh2dt"
      }
    },
    {
      "cell_type": "code",
      "source": [
        "dataset=pd.read_csv('/content/assign1_dataset.csv')\n",
        "dataset.head(14)"
      ],
      "metadata": {
        "colab": {
          "base_uri": "https://localhost:8080/",
          "height": 488
        },
        "id": "Naf_I9uMZ7pd",
        "outputId": "d5370f30-7fab-483a-c284-821a918a0621"
      },
      "execution_count": 2,
      "outputs": [
        {
          "output_type": "execute_result",
          "data": {
            "text/plain": [
              "     Outlook Temperature Humidity    Wind Decision\n",
              "0      sunny         hot     high    weak       no\n",
              "1      sunny         hot     high  strong       no\n",
              "2   overcast         hot     high    weak      yes\n",
              "3       rain        mild     high    weak      yes\n",
              "4       rain        cool   normal    weak      yes\n",
              "5       rain        cool   normal  strong       no\n",
              "6   overcast        cool   normal  strong      yes\n",
              "7      sunny        mild     high    weak       no\n",
              "8      sunny        cool   normal    weak      yes\n",
              "9       rain        mild   normal    weak      yes\n",
              "10     sunny        mild   normal  strong      yes\n",
              "11  overcast        mild     high  strong      yes\n",
              "12  overcast         hot   normal    weak      yes\n",
              "13      rain        mild     high  strong       no"
            ],
            "text/html": [
              "\n",
              "  <div id=\"df-5741f7b7-f3da-421c-95b5-9280fbedc0ed\">\n",
              "    <div class=\"colab-df-container\">\n",
              "      <div>\n",
              "<style scoped>\n",
              "    .dataframe tbody tr th:only-of-type {\n",
              "        vertical-align: middle;\n",
              "    }\n",
              "\n",
              "    .dataframe tbody tr th {\n",
              "        vertical-align: top;\n",
              "    }\n",
              "\n",
              "    .dataframe thead th {\n",
              "        text-align: right;\n",
              "    }\n",
              "</style>\n",
              "<table border=\"1\" class=\"dataframe\">\n",
              "  <thead>\n",
              "    <tr style=\"text-align: right;\">\n",
              "      <th></th>\n",
              "      <th>Outlook</th>\n",
              "      <th>Temperature</th>\n",
              "      <th>Humidity</th>\n",
              "      <th>Wind</th>\n",
              "      <th>Decision</th>\n",
              "    </tr>\n",
              "  </thead>\n",
              "  <tbody>\n",
              "    <tr>\n",
              "      <th>0</th>\n",
              "      <td>sunny</td>\n",
              "      <td>hot</td>\n",
              "      <td>high</td>\n",
              "      <td>weak</td>\n",
              "      <td>no</td>\n",
              "    </tr>\n",
              "    <tr>\n",
              "      <th>1</th>\n",
              "      <td>sunny</td>\n",
              "      <td>hot</td>\n",
              "      <td>high</td>\n",
              "      <td>strong</td>\n",
              "      <td>no</td>\n",
              "    </tr>\n",
              "    <tr>\n",
              "      <th>2</th>\n",
              "      <td>overcast</td>\n",
              "      <td>hot</td>\n",
              "      <td>high</td>\n",
              "      <td>weak</td>\n",
              "      <td>yes</td>\n",
              "    </tr>\n",
              "    <tr>\n",
              "      <th>3</th>\n",
              "      <td>rain</td>\n",
              "      <td>mild</td>\n",
              "      <td>high</td>\n",
              "      <td>weak</td>\n",
              "      <td>yes</td>\n",
              "    </tr>\n",
              "    <tr>\n",
              "      <th>4</th>\n",
              "      <td>rain</td>\n",
              "      <td>cool</td>\n",
              "      <td>normal</td>\n",
              "      <td>weak</td>\n",
              "      <td>yes</td>\n",
              "    </tr>\n",
              "    <tr>\n",
              "      <th>5</th>\n",
              "      <td>rain</td>\n",
              "      <td>cool</td>\n",
              "      <td>normal</td>\n",
              "      <td>strong</td>\n",
              "      <td>no</td>\n",
              "    </tr>\n",
              "    <tr>\n",
              "      <th>6</th>\n",
              "      <td>overcast</td>\n",
              "      <td>cool</td>\n",
              "      <td>normal</td>\n",
              "      <td>strong</td>\n",
              "      <td>yes</td>\n",
              "    </tr>\n",
              "    <tr>\n",
              "      <th>7</th>\n",
              "      <td>sunny</td>\n",
              "      <td>mild</td>\n",
              "      <td>high</td>\n",
              "      <td>weak</td>\n",
              "      <td>no</td>\n",
              "    </tr>\n",
              "    <tr>\n",
              "      <th>8</th>\n",
              "      <td>sunny</td>\n",
              "      <td>cool</td>\n",
              "      <td>normal</td>\n",
              "      <td>weak</td>\n",
              "      <td>yes</td>\n",
              "    </tr>\n",
              "    <tr>\n",
              "      <th>9</th>\n",
              "      <td>rain</td>\n",
              "      <td>mild</td>\n",
              "      <td>normal</td>\n",
              "      <td>weak</td>\n",
              "      <td>yes</td>\n",
              "    </tr>\n",
              "    <tr>\n",
              "      <th>10</th>\n",
              "      <td>sunny</td>\n",
              "      <td>mild</td>\n",
              "      <td>normal</td>\n",
              "      <td>strong</td>\n",
              "      <td>yes</td>\n",
              "    </tr>\n",
              "    <tr>\n",
              "      <th>11</th>\n",
              "      <td>overcast</td>\n",
              "      <td>mild</td>\n",
              "      <td>high</td>\n",
              "      <td>strong</td>\n",
              "      <td>yes</td>\n",
              "    </tr>\n",
              "    <tr>\n",
              "      <th>12</th>\n",
              "      <td>overcast</td>\n",
              "      <td>hot</td>\n",
              "      <td>normal</td>\n",
              "      <td>weak</td>\n",
              "      <td>yes</td>\n",
              "    </tr>\n",
              "    <tr>\n",
              "      <th>13</th>\n",
              "      <td>rain</td>\n",
              "      <td>mild</td>\n",
              "      <td>high</td>\n",
              "      <td>strong</td>\n",
              "      <td>no</td>\n",
              "    </tr>\n",
              "  </tbody>\n",
              "</table>\n",
              "</div>\n",
              "      <button class=\"colab-df-convert\" onclick=\"convertToInteractive('df-5741f7b7-f3da-421c-95b5-9280fbedc0ed')\"\n",
              "              title=\"Convert this dataframe to an interactive table.\"\n",
              "              style=\"display:none;\">\n",
              "        \n",
              "  <svg xmlns=\"http://www.w3.org/2000/svg\" height=\"24px\"viewBox=\"0 0 24 24\"\n",
              "       width=\"24px\">\n",
              "    <path d=\"M0 0h24v24H0V0z\" fill=\"none\"/>\n",
              "    <path d=\"M18.56 5.44l.94 2.06.94-2.06 2.06-.94-2.06-.94-.94-2.06-.94 2.06-2.06.94zm-11 1L8.5 8.5l.94-2.06 2.06-.94-2.06-.94L8.5 2.5l-.94 2.06-2.06.94zm10 10l.94 2.06.94-2.06 2.06-.94-2.06-.94-.94-2.06-.94 2.06-2.06.94z\"/><path d=\"M17.41 7.96l-1.37-1.37c-.4-.4-.92-.59-1.43-.59-.52 0-1.04.2-1.43.59L10.3 9.45l-7.72 7.72c-.78.78-.78 2.05 0 2.83L4 21.41c.39.39.9.59 1.41.59.51 0 1.02-.2 1.41-.59l7.78-7.78 2.81-2.81c.8-.78.8-2.07 0-2.86zM5.41 20L4 18.59l7.72-7.72 1.47 1.35L5.41 20z\"/>\n",
              "  </svg>\n",
              "      </button>\n",
              "      \n",
              "  <style>\n",
              "    .colab-df-container {\n",
              "      display:flex;\n",
              "      flex-wrap:wrap;\n",
              "      gap: 12px;\n",
              "    }\n",
              "\n",
              "    .colab-df-convert {\n",
              "      background-color: #E8F0FE;\n",
              "      border: none;\n",
              "      border-radius: 50%;\n",
              "      cursor: pointer;\n",
              "      display: none;\n",
              "      fill: #1967D2;\n",
              "      height: 32px;\n",
              "      padding: 0 0 0 0;\n",
              "      width: 32px;\n",
              "    }\n",
              "\n",
              "    .colab-df-convert:hover {\n",
              "      background-color: #E2EBFA;\n",
              "      box-shadow: 0px 1px 2px rgba(60, 64, 67, 0.3), 0px 1px 3px 1px rgba(60, 64, 67, 0.15);\n",
              "      fill: #174EA6;\n",
              "    }\n",
              "\n",
              "    [theme=dark] .colab-df-convert {\n",
              "      background-color: #3B4455;\n",
              "      fill: #D2E3FC;\n",
              "    }\n",
              "\n",
              "    [theme=dark] .colab-df-convert:hover {\n",
              "      background-color: #434B5C;\n",
              "      box-shadow: 0px 1px 3px 1px rgba(0, 0, 0, 0.15);\n",
              "      filter: drop-shadow(0px 1px 2px rgba(0, 0, 0, 0.3));\n",
              "      fill: #FFFFFF;\n",
              "    }\n",
              "  </style>\n",
              "\n",
              "      <script>\n",
              "        const buttonEl =\n",
              "          document.querySelector('#df-5741f7b7-f3da-421c-95b5-9280fbedc0ed button.colab-df-convert');\n",
              "        buttonEl.style.display =\n",
              "          google.colab.kernel.accessAllowed ? 'block' : 'none';\n",
              "\n",
              "        async function convertToInteractive(key) {\n",
              "          const element = document.querySelector('#df-5741f7b7-f3da-421c-95b5-9280fbedc0ed');\n",
              "          const dataTable =\n",
              "            await google.colab.kernel.invokeFunction('convertToInteractive',\n",
              "                                                     [key], {});\n",
              "          if (!dataTable) return;\n",
              "\n",
              "          const docLinkHtml = 'Like what you see? Visit the ' +\n",
              "            '<a target=\"_blank\" href=https://colab.research.google.com/notebooks/data_table.ipynb>data table notebook</a>'\n",
              "            + ' to learn more about interactive tables.';\n",
              "          element.innerHTML = '';\n",
              "          dataTable['output_type'] = 'display_data';\n",
              "          await google.colab.output.renderOutput(dataTable, element);\n",
              "          const docLink = document.createElement('div');\n",
              "          docLink.innerHTML = docLinkHtml;\n",
              "          element.appendChild(docLink);\n",
              "        }\n",
              "      </script>\n",
              "    </div>\n",
              "  </div>\n",
              "  "
            ]
          },
          "metadata": {},
          "execution_count": 2
        }
      ]
    },
    {
      "cell_type": "code",
      "source": [
        "\n",
        "X=[feature for feature in dataset]\n",
        "X.remove(\"Decision\")\n"
      ],
      "metadata": {
        "id": "74hzfgb9ZDcd"
      },
      "execution_count": 3,
      "outputs": []
    },
    {
      "cell_type": "markdown",
      "source": [
        "Defining a Node class"
      ],
      "metadata": {
        "id": "DPc3ZNp0hwGX"
      }
    },
    {
      "cell_type": "code",
      "source": [
        "class Node:\n",
        "  def __init__(self):\n",
        "    self.children=[]\n",
        "    self.value=\"\"\n",
        "    self.isLeaf=False\n",
        "    self.pred=\"\""
      ],
      "metadata": {
        "id": "pU-t37ighdyQ"
      },
      "execution_count": 4,
      "outputs": []
    },
    {
      "cell_type": "markdown",
      "source": [
        "Defining a function Entropy"
      ],
      "metadata": {
        "id": "O83a7kKlh7zm"
      }
    },
    {
      "cell_type": "code",
      "source": [
        "def Entropy(samples):\n",
        "  positive=0.0\n",
        "  negative=0.0\n",
        "  for _, row in samples.iterrows():\n",
        "    if row[\"Decision\"]==\"yes\":\n",
        "      positive+=1\n",
        "    else:\n",
        "      negative+=1\n",
        "  if positive==0.0 or negative==0.0:\n",
        "    return 0.0\n",
        "  else:\n",
        "    pos=positive/(positive+negative)\n",
        "    neg=negative/(positive+negative)\n",
        "    return -((pos* math.log(pos,2)) + (neg* math.log(neg,2)))\n"
      ],
      "metadata": {
        "id": "MRkLCnjQhubq"
      },
      "execution_count": 5,
      "outputs": []
    },
    {
      "cell_type": "markdown",
      "source": [
        "Defining an Information Gain function"
      ],
      "metadata": {
        "id": "yrr25dDgjID-"
      }
    },
    {
      "cell_type": "code",
      "source": [
        "def Information_Gain(samples,attributes):\n",
        "  unique=np.unique(samples[attributes])\n",
        "  Gain=Entropy(samples)\n",
        "  for i in unique:\n",
        "    subData=samples[samples[attributes]==i]\n",
        "    sub_Entropy=Entropy(subData)\n",
        "    Gain-=(float(len(subData))/float(len(samples)))*sub_Entropy\n",
        "  return Gain  "
      ],
      "metadata": {
        "id": "QzNGA7bpjK9x"
      },
      "execution_count": 6,
      "outputs": []
    },
    {
      "cell_type": "code",
      "source": [
        "check=np.unique(dataset[\"Decision\"])\n",
        "check"
      ],
      "metadata": {
        "colab": {
          "base_uri": "https://localhost:8080/"
        },
        "id": "3PowxcOgeBeN",
        "outputId": "384ab29e-e050-4799-879c-7e57bcc2ed52"
      },
      "execution_count": 7,
      "outputs": [
        {
          "output_type": "execute_result",
          "data": {
            "text/plain": [
              "array(['no', 'yes'], dtype=object)"
            ]
          },
          "metadata": {},
          "execution_count": 7
        }
      ]
    },
    {
      "cell_type": "code",
      "source": [
        "check=X.copy()\n",
        "check"
      ],
      "metadata": {
        "colab": {
          "base_uri": "https://localhost:8080/"
        },
        "id": "nYajUxn5fPME",
        "outputId": "9d22e2bc-186b-4cc4-89d1-f71fb3b80f05"
      },
      "execution_count": 8,
      "outputs": [
        {
          "output_type": "execute_result",
          "data": {
            "text/plain": [
              "['Outlook', 'Temperature', 'Humidity', 'Wind']"
            ]
          },
          "metadata": {},
          "execution_count": 8
        }
      ]
    },
    {
      "cell_type": "markdown",
      "source": [
        "ID3 function"
      ],
      "metadata": {
        "id": "KeedvtH7mYO7"
      }
    },
    {
      "cell_type": "code",
      "source": [
        "def ID3(samples,attributes):\n",
        "  root=Node()\n",
        "  Max_feature=\" \"\n",
        "  Max_Gain=0\n",
        "  for feature in attributes:\n",
        "    Gain=Information_Gain(samples,feature)\n",
        "    if(Gain> Max_Gain):\n",
        "      Max_Gain=Gain\n",
        "      Max_feature=feature\n",
        "  root.value=Max_feature\n",
        "  unique=np.unique(samples[Max_feature])\n",
        "  for i in unique:\n",
        "    subData=samples[samples[Max_feature]==i]\n",
        "    if Entropy(subData)==0.0:\n",
        "      newNode=Node()\n",
        "      newNode.isLeaf=True\n",
        "      newNode.value=i\n",
        "      newNode.pred= np.unique(subData[\"Decision\"])   \n",
        "      root.children.append(newNode)\n",
        "    else:\n",
        "      dummyNode = Node()\n",
        "      dummyNode.value = i\n",
        "      New_attributes = attributes.copy()\n",
        "      New_attributes.remove(Max_feature)\n",
        "      Child = ID3(subData, New_attributes)\n",
        "      dummyNode.children.append(Child)\n",
        "      root.children.append(dummyNode)\n",
        "\n",
        "  return root"
      ],
      "metadata": {
        "id": "Wri7MDdjmXuT"
      },
      "execution_count": 9,
      "outputs": []
    },
    {
      "cell_type": "markdown",
      "source": [
        "Function to draw the Decision Tree"
      ],
      "metadata": {
        "id": "q1CAs72zn_H6"
      }
    },
    {
      "cell_type": "code",
      "source": [
        "def Print_Tree(root: Node, depth=0):\n",
        "    for i in range(depth):\n",
        "        print(\"\\t\", end=\"\")\n",
        "    print(root.value, end=\"\")\n",
        "    if root.isLeaf:\n",
        "        print(\" -> \", root.pred)\n",
        "    print()\n",
        "    for Child in root.children:\n",
        "        Print_Tree(Child, depth + 1)"
      ],
      "metadata": {
        "id": "j0KvsDXHoE7B"
      },
      "execution_count": 10,
      "outputs": []
    },
    {
      "cell_type": "code",
      "source": [
        "def Classify(root: Node, new):\n",
        "    for child in root.children:\n",
        "        if child.value == new[root.value]:\n",
        "            if child.isLeaf:\n",
        "                print (\"Predicted Label for new sample\", test,\" is:\", child.pred)\n",
        "                exit\n",
        "            else:\n",
        "                Classify (child.children[0], new)"
      ],
      "metadata": {
        "id": "8BQ_INo2oZHO"
      },
      "execution_count": 11,
      "outputs": []
    },
    {
      "cell_type": "code",
      "source": [
        "root = ID3(dataset, X)\n",
        "print(\"Decision Tree is:\")\n",
        "Print_Tree(root)\n",
        "\n",
        "\n"
      ],
      "metadata": {
        "colab": {
          "base_uri": "https://localhost:8080/"
        },
        "id": "_NMEFmZ6obUR",
        "outputId": "3b45799c-75e9-4ff8-ec99-d60dcf51bf62"
      },
      "execution_count": 12,
      "outputs": [
        {
          "output_type": "stream",
          "name": "stdout",
          "text": [
            "Decision Tree is:\n",
            "Outlook\n",
            "\tovercast ->  ['yes']\n",
            "\n",
            "\train\n",
            "\t\tWind\n",
            "\t\t\tstrong ->  ['no']\n",
            "\n",
            "\t\t\tweak ->  ['yes']\n",
            "\n",
            "\tsunny\n",
            "\t\tHumidity\n",
            "\t\t\thigh ->  ['no']\n",
            "\n",
            "\t\t\tnormal ->  ['yes']\n",
            "\n"
          ]
        }
      ]
    },
    {
      "cell_type": "code",
      "source": [
        "test = {\"Outlook\":\"sunny\", \"Temperature\":\"mild\", \"Humidity\":\"high\", \"Wind\":\"weak\"}\n",
        "Classify (root, test)"
      ],
      "metadata": {
        "colab": {
          "base_uri": "https://localhost:8080/"
        },
        "id": "iO25S0JrwdYf",
        "outputId": "9ba7dbb9-94b9-4e53-9cea-abaa1f07baa3"
      },
      "execution_count": 14,
      "outputs": [
        {
          "output_type": "stream",
          "name": "stdout",
          "text": [
            "Predicted Label for new sample {'Outlook': 'sunny', 'Temperature': 'mild', 'Humidity': 'high', 'Wind': 'weak'}  is: ['no']\n"
          ]
        }
      ]
    }
  ]
}